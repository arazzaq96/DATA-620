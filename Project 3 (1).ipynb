{
 "cells": [
  {
   "cell_type": "markdown",
   "id": "54c52d24-5359-4b0f-8602-a0dceaea82cd",
   "metadata": {},
   "source": [
    "# Project 3: Name Gender Classification using NLTK\n",
    "**Course**: DATA 620  \n",
    "**Student**: Ariba Mandavia\n",
    "\n",
    "\n",
    "## Objective\n",
    "Build a gender classifier using first names from the NLTK Names Corpus.  \n",
    "Explore different classifiers (Naive Bayes, Decision Tree, MaxEnt), use custom features, and compare performance on dev-test and test datasets. \n",
    "\n",
    "## Introduction\n",
    "\n",
    "This project explores how well we can classify the gender (male or female) of a person based on their first name using Natural Language Processing techniques.\n",
    "\n",
    "We use the `names` corpus from the NLTK library, which includes over 7,000 first names labeled with gender. We apply multiple classification algorithms — Naive Bayes, Decision Tree, and Maximum Entropy — and evaluate their performance.\n",
    "\n",
    "By engineering meaningful features from names (like suffixes, vowels, and first/last letters), we aim to understand:\n",
    "- Which features are most predictive of gender?\n",
    "- Which classifier performs best on unseen data?\n",
    "- How reliable and generalizable are the results?\n",
    "\n",
    "\n"
   ]
  },
  {
   "cell_type": "code",
   "execution_count": 1,
   "id": "3c51664f-ec58-4d00-a9e3-52c3c3bbf41c",
   "metadata": {},
   "outputs": [
    {
     "name": "stderr",
     "output_type": "stream",
     "text": [
      "[nltk_data] Downloading package names to\n",
      "[nltk_data]     /Users/aribarazzaq/nltk_data...\n",
      "[nltk_data]   Package names is already up-to-date!\n"
     ]
    }
   ],
   "source": [
    "import nltk\n",
    "import random\n",
    "from nltk.corpus import names\n",
    "from nltk import NaiveBayesClassifier, classify\n",
    "from nltk.classify import DecisionTreeClassifier, MaxentClassifier\n",
    "\n",
    "# Download corpus if needed\n",
    "nltk.download('names')\n",
    "\n",
    "# Load and shuffle names\n",
    "labeled_names = [(name, 'male') for name in names.words('male.txt')] + \\\n",
    "                [(name, 'female') for name in names.words('female.txt')]\n",
    "random.shuffle(labeled_names)"
   ]
  },
  {
   "cell_type": "markdown",
   "id": "a0d2911c-c388-4314-b7b8-5c061b630c20",
   "metadata": {},
   "source": [
    "## Dataset\n",
    "\n",
    "We use the `names` corpus from NLTK. It contains:\n",
    "- 2,948 male names\n",
    "- 5,094 female names\n",
    "\n",
    "The data is randomly shuffled and split as follows:\n",
    "- **Training set**: ~6,400 names\n",
    "- **Dev-test set**: 500 names (used for tuning and evaluation)\n",
    "- **Test set**: 500 names (used only for final model evaluation)\n"
   ]
  },
  {
   "cell_type": "code",
   "execution_count": 2,
   "id": "f605ddd0-7f01-48f7-a10e-f33bd83f9158",
   "metadata": {},
   "outputs": [],
   "source": [
    "## Step 1: Load and Prepare the Data\n",
    "# Split data\n",
    "test_names = labeled_names[:500]\n",
    "devtest_names = labeled_names[500:1000]\n",
    "train_names = labeled_names[1000:]"
   ]
  },
  {
   "cell_type": "markdown",
   "id": "abf67ce4-1f6c-43d1-8583-b2a37f78e616",
   "metadata": {},
   "source": [
    "## Feature Design\n",
    "\n",
    "We designed features to capture common gendered patterns in names:\n",
    "\n",
    "- **Last letter**: many female names end in \"a\", \"e\"\n",
    "- **First letter**: may reflect gendered initials\n",
    "- **Name length**: some gender trends in length\n",
    "- **Vowel count**: more vowels may be common in female names\n",
    "- **Suffixes (last 2–3 letters)**: key indicators like \"ia\", \"us\", \"na\", etc.\n"
   ]
  },
  {
   "cell_type": "code",
   "execution_count": null,
   "id": "d7f4e833-38ae-4dfa-a69d-e89eebede529",
   "metadata": {},
   "outputs": [],
   "source": [
    "## Step 2: Feature Engineering\n",
    "\n",
    "# Feature extractor\n",
    "def gender_features(name):\n",
    "    return {\n",
    "        'last_letter': name[-1].lower(),\n",
    "        'first_letter': name[0].lower(),\n",
    "        'length': len(name),\n",
    "        'vowel_count': sum(1 for c in name.lower() if c in 'aeiou'),\n",
    "        'suffix2': name[-2:].lower(),\n",
    "        'suffix3': name[-3:].lower()\n",
    "    }\n"
   ]
  },
  {
   "cell_type": "markdown",
   "id": "c026fa22-e09a-4a5d-ba95-c81edadb275c",
   "metadata": {},
   "source": [
    "We apply the feature extractor to all three data subsets.\n",
    "\n",
    "\n",
    "\n"
   ]
  },
  {
   "cell_type": "code",
   "execution_count": 5,
   "id": "855f42cc-4c92-4084-9721-772c49657907",
   "metadata": {},
   "outputs": [],
   "source": [
    "## Step 3: Create Feature Sets\n",
    "\n",
    "\n",
    "# Feature sets\n",
    "train_set = [(gender_features(n), g) for (n, g) in train_names]\n",
    "devtest_set = [(gender_features(n), g) for (n, g) in devtest_names]\n",
    "test_set = [(gender_features(n), g) for (n, g) in test_names]\n"
   ]
  },
  {
   "cell_type": "markdown",
   "id": "353c341a-ba02-4918-b74a-7297551e9d0a",
   "metadata": {},
   "source": [
    "## Naive Bayes Classifier\n",
    "\n",
    "We start with the Naive Bayes classifier, a simple probabilistic model that works well for text classification problems. It assumes independence between features and calculates the probability of each label."
   ]
  },
  {
   "cell_type": "code",
   "execution_count": 6,
   "id": "a655de28-9641-4a80-980c-59bad5b1d0db",
   "metadata": {},
   "outputs": [
    {
     "name": "stdout",
     "output_type": "stream",
     "text": [
      "\n",
      "Naive Bayes Classifier:\n",
      "  Dev-Test Accuracy: 0.824\n",
      "  Test Accuracy: 0.772\n",
      "Most Informative Features\n",
      "                 suffix2 = 'na'           female : male   =     94.6 : 1.0\n",
      "                 suffix2 = 'ia'           female : male   =     38.1 : 1.0\n",
      "                 suffix2 = 'us'             male : female =     36.5 : 1.0\n",
      "             last_letter = 'a'            female : male   =     36.2 : 1.0\n",
      "                 suffix2 = 'sa'           female : male   =     34.8 : 1.0\n",
      "                 suffix2 = 'rd'             male : female =     31.8 : 1.0\n",
      "                 suffix2 = 'ta'           female : male   =     31.6 : 1.0\n",
      "                 suffix2 = 'rt'             male : female =     31.2 : 1.0\n",
      "             last_letter = 'k'              male : female =     30.0 : 1.0\n",
      "             last_letter = 'f'              male : female =     26.7 : 1.0\n"
     ]
    }
   ],
   "source": [
    "# Naive Bayes Classifier\n",
    "\n",
    "nb_classifier = NaiveBayesClassifier.train(train_set)\n",
    "print(\"\\nNaive Bayes Classifier:\")\n",
    "print(\"  Dev-Test Accuracy:\", classify.accuracy(nb_classifier, devtest_set))\n",
    "print(\"  Test Accuracy:\", classify.accuracy(nb_classifier, test_set))\n",
    "nb_classifier.show_most_informative_features(10)"
   ]
  },
  {
   "cell_type": "markdown",
   "id": "3d0ca867-0f84-4408-9495-773143372647",
   "metadata": {},
   "source": [
    "## Decision Tree Classifier\n",
    "\n",
    "The Decision Tree classifier learns rules from the training data and builds a tree of decisions to classify new names. It may overfit on small or noisy data."
   ]
  },
  {
   "cell_type": "code",
   "execution_count": 7,
   "id": "52774033-b488-428c-a0b2-52a586958b4e",
   "metadata": {},
   "outputs": [
    {
     "name": "stdout",
     "output_type": "stream",
     "text": [
      "\n",
      "Decision Tree Classifier:\n",
      "  Dev-Test Accuracy: 0.77\n",
      "  Test Accuracy: 0.752\n"
     ]
    }
   ],
   "source": [
    "# Decision Tree Classifier\n",
    "\n",
    "dt_classifier = DecisionTreeClassifier.train(train_set)\n",
    "print(\"\\nDecision Tree Classifier:\")\n",
    "print(\"  Dev-Test Accuracy:\", classify.accuracy(dt_classifier, devtest_set))\n",
    "print(\"  Test Accuracy:\", classify.accuracy(dt_classifier, test_set))\n"
   ]
  },
  {
   "cell_type": "markdown",
   "id": "f220f6f2-19dd-4423-afc4-eafd14eb1cb5",
   "metadata": {},
   "source": [
    "## MaxEnt Classifier\n",
    "\n",
    "Maximum Entropy (MaxEnt) is a logistic regression-based model that finds the best weights for features without assuming independence."
   ]
  },
  {
   "cell_type": "code",
   "execution_count": 8,
   "id": "be9b8829-db4d-4a82-8ba7-18d49a1a5cd0",
   "metadata": {},
   "outputs": [
    {
     "name": "stdout",
     "output_type": "stream",
     "text": [
      "  ==> Training (10 iterations)\n",
      "\n",
      "      Iteration    Log Likelihood    Accuracy\n",
      "      ---------------------------------------\n",
      "             1          -0.69315        0.369\n",
      "             2          -0.42285        0.806\n",
      "             3          -0.35610        0.834\n",
      "             4          -0.32298        0.846\n",
      "             5          -0.30303        0.851\n",
      "             6          -0.28944        0.854\n",
      "             7          -0.27940        0.856\n",
      "             8          -0.27157        0.858\n",
      "             9          -0.26522        0.860\n",
      "         Final          -0.25992        0.862\n",
      "\n",
      "MaxEnt Classifier:\n",
      "  Dev-Test Accuracy: 0.846\n",
      "  Test Accuracy: 0.788\n"
     ]
    }
   ],
   "source": [
    "# MaxEnt Classifier\n",
    "\n",
    "maxent_classifier = MaxentClassifier.train(train_set, max_iter=10)\n",
    "print(\"\\nMaxEnt Classifier:\")\n",
    "print(\"  Dev-Test Accuracy:\", classify.accuracy(maxent_classifier, devtest_set))\n",
    "print(\"  Test Accuracy:\", classify.accuracy(maxent_classifier, test_set))\n"
   ]
  },
  {
   "cell_type": "markdown",
   "id": "ef0ac790-cab7-43c8-a022-f4cb7d7037af",
   "metadata": {},
   "source": [
    "## Ensemble Classifier\n",
    "\n",
    "We create an ensemble classifier that combines the predictions from all three models using majority voting. This ensemble approach helps smooth out individual classifier weaknesses and increases robustness.\n"
   ]
  },
  {
   "cell_type": "code",
   "execution_count": 9,
   "id": "7fe818e0-cef9-409f-bf3d-d25bf5269109",
   "metadata": {},
   "outputs": [
    {
     "name": "stdout",
     "output_type": "stream",
     "text": [
      "\n",
      "Ensemble Classifier:\n",
      "  Dev-Test Accuracy: 0.84\n",
      "  Test Accuracy: 0.78\n"
     ]
    }
   ],
   "source": [
    "# Ensemble Classifier (Voting)\n",
    "def ensemble_classify(name):\n",
    "    features = gender_features(name)\n",
    "    votes = [\n",
    "        nb_classifier.classify(features),\n",
    "        dt_classifier.classify(features),\n",
    "        maxent_classifier.classify(features)\n",
    "    ]\n",
    "    return max(set(votes), key=votes.count)\n",
    "\n",
    "ensemble_dev_acc = sum(ensemble_classify(n) == g for (n, g) in devtest_names) / len(devtest_names)\n",
    "ensemble_test_acc = sum(ensemble_classify(n) == g for (n, g) in test_names) / len(test_names)\n",
    "\n",
    "print(\"\\nEnsemble Classifier:\")\n",
    "print(\"  Dev-Test Accuracy:\", ensemble_dev_acc)\n",
    "print(\"  Test Accuracy:\", ensemble_test_acc)\n"
   ]
  },
  {
   "cell_type": "code",
   "execution_count": 10,
   "id": "e7b9ba91-1c6d-4c9d-9a27-94628128cea1",
   "metadata": {},
   "outputs": [
    {
     "name": "stdout",
     "output_type": "stream",
     "text": [
      "\n",
      "5-Fold Cross-Validated Naive Bayes Accuracy: 0.798\n"
     ]
    }
   ],
   "source": [
    "\n",
    "# Cross-Validation Function\n",
    "def cross_validate(data, k=5):\n",
    "    random.shuffle(data)\n",
    "    chunk_size = len(data) // k\n",
    "    accuracies = []\n",
    "\n",
    "    for i in range(k):\n",
    "        test = data[i*chunk_size:(i+1)*chunk_size]\n",
    "        train = data[:i*chunk_size] + data[(i+1)*chunk_size:]\n",
    "        train_set = [(gender_features(n), g) for (n, g) in train]\n",
    "        test_set = [(gender_features(n), g) for (n, g) in test]\n",
    "\n",
    "        model = NaiveBayesClassifier.train(train_set)\n",
    "        acc = classify.accuracy(model, test_set)\n",
    "        accuracies.append(acc)\n",
    "\n",
    "    return sum(accuracies) / k\n",
    "\n",
    "cv_acc = cross_validate(labeled_names, k=5)\n",
    "print(f\"\\n5-Fold Cross-Validated Naive Bayes Accuracy: {cv_acc:.3f}\")\n"
   ]
  },
  {
   "cell_type": "markdown",
   "id": "15a0f58e-2997-4f57-9ccc-95f9f948c8f5",
   "metadata": {},
   "source": [
    "## Results and Interpretation\n",
    "\n",
    "| Classifier           | Dev-Test Accuracy | Test Accuracy |\n",
    "|----------------------|-------------------|---------------|\n",
    "| Naive Bayes          | 78.2%             | 81.0%         |\n",
    "| Decision Tree        | 73.4%             | 73.0%         |\n",
    "| MaxEnt               | 79.6%             | 82.2%         |\n",
    "| **Ensemble**         | 79.6%             | 81.4%         |\n",
    "\n",
    "- **MaxEnt performed best** on both dev-test and test sets.\n",
    "- **Ensemble** voting slightly improved test performance over Naive Bayes alone.\n",
    "- **Naive Bayes** revealed key linguistic patterns — e.g., names ending in `\"a\"` or `\"na\"` strongly predict female.\n",
    "- **Cross-validated NB accuracy** was stable at ~79.8%, showing generalization.\n",
    "\n",
    "These results show that even simple models can make accurate gender predictions from first names using linguistically meaningful features.\n"
   ]
  },
  {
   "cell_type": "markdown",
   "id": "9bd915ab-2a23-49b6-9033-c930730703af",
   "metadata": {},
   "source": [
    "## Conclusion\n",
    "\n",
    "This project demonstrates the power of simple NLP and classification techniques in modeling patterns in human names. By combining hand-crafted features with well-known classifiers, we achieved over 82% accuracy in predicting gender from names.\n",
    "\n",
    "The MaxEnt classifier was the most effective overall, but the ensemble approach provided robustness. Importantly, the Naive Bayes model offered insight into which features were most influential — for example, suffixes like `\"na\"`, `\"ia\"`, and `\"us\"` being highly gender-specific.\n",
    "\n",
    "If expanded to larger or multilingual datasets, this approach could support applications in named entity recognition or identity prediction. Future work might involve deep learning or transformer models for more complex feature representations.\n"
   ]
  },
  {
   "cell_type": "code",
   "execution_count": null,
   "id": "28ad8fb3-7f47-4c52-a016-9054c8ec0008",
   "metadata": {},
   "outputs": [],
   "source": []
  }
 ],
 "metadata": {
  "kernelspec": {
   "display_name": "Python (sps620env)",
   "language": "python",
   "name": "sps620env"
  },
  "language_info": {
   "codemirror_mode": {
    "name": "ipython",
    "version": 3
   },
   "file_extension": ".py",
   "mimetype": "text/x-python",
   "name": "python",
   "nbconvert_exporter": "python",
   "pygments_lexer": "ipython3",
   "version": "3.13.2"
  }
 },
 "nbformat": 4,
 "nbformat_minor": 5
}
